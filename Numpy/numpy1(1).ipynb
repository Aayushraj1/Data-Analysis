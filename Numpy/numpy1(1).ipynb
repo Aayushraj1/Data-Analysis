{
  "nbformat": 4,
  "nbformat_minor": 0,
  "metadata": {
    "colab": {
      "name": "numpy1.ipynb",
      "provenance": []
    },
    "kernelspec": {
      "name": "python3",
      "display_name": "Python 3"
    },
    "language_info": {
      "name": "python"
    }
  },
  "cells": [
    {
      "cell_type": "code",
      "metadata": {
        "id": "P0Ui9M7qHP_p"
      },
      "source": [
        "import numpy as np"
      ],
      "execution_count": 1,
      "outputs": []
    },
    {
      "cell_type": "markdown",
      "metadata": {
        "id": "tk4zgVi6Hfho"
      },
      "source": [
        "#BASICS"
      ]
    },
    {
      "cell_type": "code",
      "metadata": {
        "colab": {
          "base_uri": "https://localhost:8080/"
        },
        "id": "3aLG3arjHX8b",
        "outputId": "913b3562-61b2-49ee-db80-bec291474629"
      },
      "source": [
        "a = np.array([1,2,3,4])\n",
        "print(a)"
      ],
      "execution_count": 2,
      "outputs": [
        {
          "output_type": "stream",
          "text": [
            "[1 2 3 4]\n"
          ],
          "name": "stdout"
        }
      ]
    },
    {
      "cell_type": "code",
      "metadata": {
        "colab": {
          "base_uri": "https://localhost:8080/"
        },
        "id": "hLEYY9pqH8PI",
        "outputId": "343858b0-a676-4b46-c230-b32587fa8543"
      },
      "source": [
        "b = np.array([[1,2,3],[4,6,8]])\n",
        "print(b)"
      ],
      "execution_count": 3,
      "outputs": [
        {
          "output_type": "stream",
          "text": [
            "[[1 2 3]\n",
            " [4 6 8]]\n"
          ],
          "name": "stdout"
        }
      ]
    },
    {
      "cell_type": "code",
      "metadata": {
        "colab": {
          "base_uri": "https://localhost:8080/"
        },
        "id": "Opg0UCI-Igoj",
        "outputId": "4dec74d3-0a33-4483-9a1d-4457de25a5a5"
      },
      "source": [
        "#get dimension\n",
        "b.ndim"
      ],
      "execution_count": 4,
      "outputs": [
        {
          "output_type": "execute_result",
          "data": {
            "text/plain": [
              "2"
            ]
          },
          "metadata": {
            "tags": []
          },
          "execution_count": 4
        }
      ]
    },
    {
      "cell_type": "code",
      "metadata": {
        "colab": {
          "base_uri": "https://localhost:8080/"
        },
        "id": "iPknASbmIvv-",
        "outputId": "1f6d74a9-88bc-4d03-d75c-46f477d0053f"
      },
      "source": [
        "#get shape\n",
        "print(a.shape)\n",
        "print(b.shape)"
      ],
      "execution_count": 5,
      "outputs": [
        {
          "output_type": "stream",
          "text": [
            "(4,)\n",
            "(2, 3)\n"
          ],
          "name": "stdout"
        }
      ]
    },
    {
      "cell_type": "code",
      "metadata": {
        "colab": {
          "base_uri": "https://localhost:8080/"
        },
        "id": "-mCgRjqCI2Lg",
        "outputId": "62992bc9-811a-4a88-ef68-2a56c9d35c07"
      },
      "source": [
        "#get types\n",
        "print(b.dtype)\n",
        "\n",
        "c = np.array([1,2], dtype = \"int8\")\n",
        "print(c)\n",
        "c.dtype"
      ],
      "execution_count": 6,
      "outputs": [
        {
          "output_type": "stream",
          "text": [
            "int64\n",
            "[1 2]\n"
          ],
          "name": "stdout"
        },
        {
          "output_type": "execute_result",
          "data": {
            "text/plain": [
              "dtype('int8')"
            ]
          },
          "metadata": {
            "tags": []
          },
          "execution_count": 6
        }
      ]
    },
    {
      "cell_type": "code",
      "metadata": {
        "colab": {
          "base_uri": "https://localhost:8080/"
        },
        "id": "vMDPLAw8JC3t",
        "outputId": "54755f03-6505-4f34-fe69-e7492fdc1888"
      },
      "source": [
        "d = np.array([[1,2],[2,3,4]], dtype = \"object\")\n",
        "print(d)\n",
        "print(d.ndim)"
      ],
      "execution_count": 7,
      "outputs": [
        {
          "output_type": "stream",
          "text": [
            "[list([1, 2]) list([2, 3, 4])]\n",
            "1\n"
          ],
          "name": "stdout"
        }
      ]
    },
    {
      "cell_type": "code",
      "metadata": {
        "colab": {
          "base_uri": "https://localhost:8080/"
        },
        "id": "zpf4SRZ5Kl0c",
        "outputId": "cc69710d-e217-4796-caed-467c18cf7a40"
      },
      "source": [
        "#get size (in bytes) of one element\n",
        "print(a.itemsize)\n",
        "print(c.itemsize)"
      ],
      "execution_count": 8,
      "outputs": [
        {
          "output_type": "stream",
          "text": [
            "8\n",
            "1\n"
          ],
          "name": "stdout"
        }
      ]
    },
    {
      "cell_type": "code",
      "metadata": {
        "colab": {
          "base_uri": "https://localhost:8080/"
        },
        "id": "rkIwcCXtLAcB",
        "outputId": "4b9f78a7-daae-4009-b7ce-7285c0b37abb"
      },
      "source": [
        "# get full size\n",
        "print(c.nbytes)"
      ],
      "execution_count": 9,
      "outputs": [
        {
          "output_type": "stream",
          "text": [
            "2\n"
          ],
          "name": "stdout"
        }
      ]
    },
    {
      "cell_type": "markdown",
      "metadata": {
        "id": "YUfwWCErL2gs"
      },
      "source": [
        "#Accessing/Changing specific elements,rows,columns,etc.\n"
      ]
    },
    {
      "cell_type": "code",
      "metadata": {
        "colab": {
          "base_uri": "https://localhost:8080/"
        },
        "id": "hnp5t8PDLnes",
        "outputId": "6584bcee-5c74-48f2-db5e-933107c42d9a"
      },
      "source": [
        "ar = np.array([[1,2,3,4,5],[0,6,7,8,9]])\n",
        "print(ar)"
      ],
      "execution_count": 10,
      "outputs": [
        {
          "output_type": "stream",
          "text": [
            "[[1 2 3 4 5]\n",
            " [0 6 7 8 9]]\n"
          ],
          "name": "stdout"
        }
      ]
    },
    {
      "cell_type": "code",
      "metadata": {
        "colab": {
          "base_uri": "https://localhost:8080/"
        },
        "id": "opURnc_kMku2",
        "outputId": "f2eaef1e-9b9e-4617-a8b8-4b898f3e1dc3"
      },
      "source": [
        "#get specific element\n",
        "print(ar[0])\n",
        "print(ar[1,2])\n",
        "print(ar[:,2])\n",
        "print(ar[1,2:4])"
      ],
      "execution_count": 11,
      "outputs": [
        {
          "output_type": "stream",
          "text": [
            "[1 2 3 4 5]\n",
            "7\n",
            "[3 7]\n",
            "[7 8]\n"
          ],
          "name": "stdout"
        }
      ]
    },
    {
      "cell_type": "code",
      "metadata": {
        "colab": {
          "base_uri": "https://localhost:8080/"
        },
        "id": "7qEXQya0Mkxp",
        "outputId": "8b6abcba-4777-4fd8-d361-6ac5c2e32d22"
      },
      "source": [
        "# from start index end index and step size\n",
        "print(ar[0, 1:5:2])"
      ],
      "execution_count": 12,
      "outputs": [
        {
          "output_type": "stream",
          "text": [
            "[2 4]\n"
          ],
          "name": "stdout"
        }
      ]
    },
    {
      "cell_type": "code",
      "metadata": {
        "colab": {
          "base_uri": "https://localhost:8080/"
        },
        "id": "mwlJ-R2LMk0T",
        "outputId": "217b50f2-9f8b-46d6-ae63-156badf99726"
      },
      "source": [
        "# change something\n",
        "ar[0,1] = 20\n",
        "print(ar)"
      ],
      "execution_count": 13,
      "outputs": [
        {
          "output_type": "stream",
          "text": [
            "[[ 1 20  3  4  5]\n",
            " [ 0  6  7  8  9]]\n"
          ],
          "name": "stdout"
        }
      ]
    },
    {
      "cell_type": "code",
      "metadata": {
        "colab": {
          "base_uri": "https://localhost:8080/"
        },
        "id": "XanjZmwnMk3e",
        "outputId": "f41f4a58-8e11-4e8f-afcc-16dcda5434ae"
      },
      "source": [
        "ar[:,2] = [77,66]\n",
        "print(ar)"
      ],
      "execution_count": 14,
      "outputs": [
        {
          "output_type": "stream",
          "text": [
            "[[ 1 20 77  4  5]\n",
            " [ 0  6 66  8  9]]\n"
          ],
          "name": "stdout"
        }
      ]
    },
    {
      "cell_type": "markdown",
      "metadata": {
        "id": "-KHzygG1iEsh"
      },
      "source": [
        "#INITIALIZE DIFFERENT TYPES OF ARRAYS"
      ]
    },
    {
      "cell_type": "code",
      "metadata": {
        "id": "G3z3C-NnMk6C",
        "colab": {
          "base_uri": "https://localhost:8080/"
        },
        "outputId": "30bf3695-d2ce-4cbc-8539-26165441f4fb"
      },
      "source": [
        "  #  All 0s matrix\n",
        "np.zeros(5)"
      ],
      "execution_count": 15,
      "outputs": [
        {
          "output_type": "execute_result",
          "data": {
            "text/plain": [
              "array([0., 0., 0., 0., 0.])"
            ]
          },
          "metadata": {
            "tags": []
          },
          "execution_count": 15
        }
      ]
    },
    {
      "cell_type": "code",
      "metadata": {
        "id": "0JQR_QDJMk9T",
        "colab": {
          "base_uri": "https://localhost:8080/"
        },
        "outputId": "7d0352c5-37b1-4f0e-cb67-3f22fc7f40b8"
      },
      "source": [
        "np.zeros((2,3))"
      ],
      "execution_count": 16,
      "outputs": [
        {
          "output_type": "execute_result",
          "data": {
            "text/plain": [
              "array([[0., 0., 0.],\n",
              "       [0., 0., 0.]])"
            ]
          },
          "metadata": {
            "tags": []
          },
          "execution_count": 16
        }
      ]
    },
    {
      "cell_type": "code",
      "metadata": {
        "id": "96QFkfiGMlA6",
        "colab": {
          "base_uri": "https://localhost:8080/"
        },
        "outputId": "399dff93-edc0-4ad2-e743-7ef513cbd671"
      },
      "source": [
        "# All 1s matrix\n",
        "np.ones((4,3))"
      ],
      "execution_count": 17,
      "outputs": [
        {
          "output_type": "execute_result",
          "data": {
            "text/plain": [
              "array([[1., 1., 1.],\n",
              "       [1., 1., 1.],\n",
              "       [1., 1., 1.],\n",
              "       [1., 1., 1.]])"
            ]
          },
          "metadata": {
            "tags": []
          },
          "execution_count": 17
        }
      ]
    },
    {
      "cell_type": "code",
      "metadata": {
        "colab": {
          "base_uri": "https://localhost:8080/"
        },
        "id": "I8BiE_DejTE3",
        "outputId": "4b9b3a7c-daec-49df-f94c-2d8c8cd9f1e6"
      },
      "source": [
        "np.ones((2,3),dtype=\"int8\")"
      ],
      "execution_count": 18,
      "outputs": [
        {
          "output_type": "execute_result",
          "data": {
            "text/plain": [
              "array([[1, 1, 1],\n",
              "       [1, 1, 1]], dtype=int8)"
            ]
          },
          "metadata": {
            "tags": []
          },
          "execution_count": 18
        }
      ]
    },
    {
      "cell_type": "code",
      "metadata": {
        "colab": {
          "base_uri": "https://localhost:8080/"
        },
        "id": "0d0PC6-Zjhpb",
        "outputId": "0324626d-ee60-4c1f-906c-61adab91739d"
      },
      "source": [
        "# Any other number\n",
        "np.full((3,3),5)"
      ],
      "execution_count": 19,
      "outputs": [
        {
          "output_type": "execute_result",
          "data": {
            "text/plain": [
              "array([[5, 5, 5],\n",
              "       [5, 5, 5],\n",
              "       [5, 5, 5]])"
            ]
          },
          "metadata": {
            "tags": []
          },
          "execution_count": 19
        }
      ]
    },
    {
      "cell_type": "code",
      "metadata": {
        "colab": {
          "base_uri": "https://localhost:8080/"
        },
        "id": "y5A6_DAljyCz",
        "outputId": "aaac45b2-15f5-4e0b-edb3-c36364d31b4c"
      },
      "source": [
        "np.full(ar.shape,4)"
      ],
      "execution_count": 20,
      "outputs": [
        {
          "output_type": "execute_result",
          "data": {
            "text/plain": [
              "array([[4, 4, 4, 4, 4],\n",
              "       [4, 4, 4, 4, 4]])"
            ]
          },
          "metadata": {
            "tags": []
          },
          "execution_count": 20
        }
      ]
    },
    {
      "cell_type": "code",
      "metadata": {
        "colab": {
          "base_uri": "https://localhost:8080/"
        },
        "id": "2EXbwhm4lrpX",
        "outputId": "34cf40d1-97cc-4570-a7e6-11b42f8b6bf1"
      },
      "source": [
        "# random decimal numbers\n",
        "np.random.rand(4,2)"
      ],
      "execution_count": 21,
      "outputs": [
        {
          "output_type": "execute_result",
          "data": {
            "text/plain": [
              "array([[0.21199637, 0.94565933],\n",
              "       [0.2868185 , 0.11068578],\n",
              "       [0.88955683, 0.1796575 ],\n",
              "       [0.45414262, 0.39045087]])"
            ]
          },
          "metadata": {
            "tags": []
          },
          "execution_count": 21
        }
      ]
    },
    {
      "cell_type": "code",
      "metadata": {
        "colab": {
          "base_uri": "https://localhost:8080/"
        },
        "id": "RUWsC_BZmUjV",
        "outputId": "132bf23e-269d-4f40-c002-b2eb0e7b5274"
      },
      "source": [
        "# random integer values\n",
        "np.random.randint(5,size=(2,3))"
      ],
      "execution_count": 22,
      "outputs": [
        {
          "output_type": "execute_result",
          "data": {
            "text/plain": [
              "array([[3, 3, 1],\n",
              "       [0, 1, 2]])"
            ]
          },
          "metadata": {
            "tags": []
          },
          "execution_count": 22
        }
      ]
    },
    {
      "cell_type": "code",
      "metadata": {
        "colab": {
          "base_uri": "https://localhost:8080/"
        },
        "id": "mjkZNOPUmrA2",
        "outputId": "63eadb27-ab53-4eeb-af94-b0a3ef7cfe1a"
      },
      "source": [
        "# the identity matrix\n",
        "np.identity(3,dtype=\"int8\")"
      ],
      "execution_count": 23,
      "outputs": [
        {
          "output_type": "execute_result",
          "data": {
            "text/plain": [
              "array([[1, 0, 0],\n",
              "       [0, 1, 0],\n",
              "       [0, 0, 1]], dtype=int8)"
            ]
          },
          "metadata": {
            "tags": []
          },
          "execution_count": 23
        }
      ]
    },
    {
      "cell_type": "code",
      "metadata": {
        "colab": {
          "base_uri": "https://localhost:8080/"
        },
        "id": "4mJjq_H2m3rp",
        "outputId": "073ab1e5-9e0b-4073-c2ce-a60c9e11b870"
      },
      "source": [
        "# repeatation of array in 1d and 2d\n",
        "arr = np.array([1,2,3])\n",
        "r1 = np.repeat(arr,3)\n",
        "print(r1)"
      ],
      "execution_count": 24,
      "outputs": [
        {
          "output_type": "stream",
          "text": [
            "[1 1 1 2 2 2 3 3 3]\n"
          ],
          "name": "stdout"
        }
      ]
    },
    {
      "cell_type": "code",
      "metadata": {
        "colab": {
          "base_uri": "https://localhost:8080/"
        },
        "id": "_MYiyLdVnZfA",
        "outputId": "c8dd39e8-662f-41c6-b95a-1fa6ca5efd80"
      },
      "source": [
        "arr2 = np.array([[1,2,3]])\n",
        "r2 = np.repeat(arr2,2,axis=0)\n",
        "print(r2)"
      ],
      "execution_count": 25,
      "outputs": [
        {
          "output_type": "stream",
          "text": [
            "[[1 2 3]\n",
            " [1 2 3]]\n"
          ],
          "name": "stdout"
        }
      ]
    },
    {
      "cell_type": "code",
      "metadata": {
        "colab": {
          "base_uri": "https://localhost:8080/"
        },
        "id": "9Zg9ZTqvn-qf",
        "outputId": "816212bf-411c-4b24-ae86-fb2b84f0580a"
      },
      "source": [
        "# example to practice\n",
        "out = np.ones((5,5))\n",
        "print(out,end='\\n\\n')\n",
        "\n",
        "z = np.zeros((3,3))\n",
        "z[1,1] = 9\n",
        "print(z,end=\"\\n\\n\")\n",
        "\n",
        "out[1:4,1:4] = z\n",
        "print(out)"
      ],
      "execution_count": 26,
      "outputs": [
        {
          "output_type": "stream",
          "text": [
            "[[1. 1. 1. 1. 1.]\n",
            " [1. 1. 1. 1. 1.]\n",
            " [1. 1. 1. 1. 1.]\n",
            " [1. 1. 1. 1. 1.]\n",
            " [1. 1. 1. 1. 1.]]\n",
            "\n",
            "[[0. 0. 0.]\n",
            " [0. 9. 0.]\n",
            " [0. 0. 0.]]\n",
            "\n",
            "[[1. 1. 1. 1. 1.]\n",
            " [1. 0. 0. 0. 1.]\n",
            " [1. 0. 9. 0. 1.]\n",
            " [1. 0. 0. 0. 1.]\n",
            " [1. 1. 1. 1. 1.]]\n"
          ],
          "name": "stdout"
        }
      ]
    },
    {
      "cell_type": "code",
      "metadata": {
        "colab": {
          "base_uri": "https://localhost:8080/"
        },
        "id": "mDH3_Xl_qJt3",
        "outputId": "48694617-b512-44f9-a953-dbd963c22384"
      },
      "source": [
        "# be\n",
        "# carefull\n",
        "# copying arrays\n",
        "\n",
        "arr1 = np.array([1,2,3])\n",
        "b = a.copy()\n",
        "# b = a don't work ,it only create the refrence variable for a\n",
        "print(b)\n",
        "a[0] = 44\n",
        "print(b)"
      ],
      "execution_count": 27,
      "outputs": [
        {
          "output_type": "stream",
          "text": [
            "[1 2 3 4]\n",
            "[1 2 3 4]\n"
          ],
          "name": "stdout"
        }
      ]
    },
    {
      "cell_type": "markdown",
      "metadata": {
        "id": "Iuu3HtzKtvHF"
      },
      "source": [
        "#MATHEMATICS"
      ]
    },
    {
      "cell_type": "code",
      "metadata": {
        "id": "tTDHD4zwtuhD"
      },
      "source": [
        "math1 = np.array([1,2,3])"
      ],
      "execution_count": 28,
      "outputs": []
    },
    {
      "cell_type": "code",
      "metadata": {
        "colab": {
          "base_uri": "https://localhost:8080/"
        },
        "id": "MLe7wUdSvbmX",
        "outputId": "1a38a8c3-79f2-4923-b630-1ab9bad7487b"
      },
      "source": [
        "print(math1-3)\n",
        "print(math1/2)\n",
        "print(math1*3)\n",
        "print(math1**3)"
      ],
      "execution_count": 29,
      "outputs": [
        {
          "output_type": "stream",
          "text": [
            "[-2 -1  0]\n",
            "[0.5 1.  1.5]\n",
            "[3 6 9]\n",
            "[ 1  8 27]\n"
          ],
          "name": "stdout"
        }
      ]
    },
    {
      "cell_type": "code",
      "metadata": {
        "colab": {
          "base_uri": "https://localhost:8080/"
        },
        "id": "0g4Q-gDwv-Kd",
        "outputId": "725c770e-54ea-491c-90b7-92732673f216"
      },
      "source": [
        "math2 = np.array([4,5,6,])\n",
        "print(math1+math2)"
      ],
      "execution_count": 30,
      "outputs": [
        {
          "output_type": "stream",
          "text": [
            "[5 7 9]\n"
          ],
          "name": "stdout"
        }
      ]
    },
    {
      "cell_type": "code",
      "metadata": {
        "colab": {
          "base_uri": "https://localhost:8080/"
        },
        "id": "VQQ-ws46wTjW",
        "outputId": "33ba0fba-df98-461c-fc3e-1a2c57555d60"
      },
      "source": [
        "# take sign of all value\n",
        "print(np.sin(math1))\n",
        "print(np.cos(0))"
      ],
      "execution_count": 31,
      "outputs": [
        {
          "output_type": "stream",
          "text": [
            "[0.84147098 0.90929743 0.14112001]\n",
            "1.0\n"
          ],
          "name": "stdout"
        }
      ]
    },
    {
      "cell_type": "markdown",
      "metadata": {
        "id": "udDZN8ZH0_Fb"
      },
      "source": [
        "#LINEAR ALGEBRA"
      ]
    },
    {
      "cell_type": "code",
      "metadata": {
        "colab": {
          "base_uri": "https://localhost:8080/"
        },
        "id": "n7c3cYj305Qf",
        "outputId": "225b19b1-f94b-4e2a-9e26-ceafa4b12d36"
      },
      "source": [
        "la1 = np.ones((2,3))\n",
        "print(la1)\n",
        "\n",
        "la2 = np.full((3,2),2)\n",
        "print(la2)"
      ],
      "execution_count": 32,
      "outputs": [
        {
          "output_type": "stream",
          "text": [
            "[[1. 1. 1.]\n",
            " [1. 1. 1.]]\n",
            "[[2 2]\n",
            " [2 2]\n",
            " [2 2]]\n"
          ],
          "name": "stdout"
        }
      ]
    },
    {
      "cell_type": "code",
      "metadata": {
        "colab": {
          "base_uri": "https://localhost:8080/"
        },
        "id": "0S5g4Y2y17o-",
        "outputId": "c75e59bc-8982-44d5-9e4e-59a1ffc24148"
      },
      "source": [
        "print(np.matmul(la1,la2))"
      ],
      "execution_count": 33,
      "outputs": [
        {
          "output_type": "stream",
          "text": [
            "[[6. 6.]\n",
            " [6. 6.]]\n"
          ],
          "name": "stdout"
        }
      ]
    },
    {
      "cell_type": "code",
      "metadata": {
        "colab": {
          "base_uri": "https://localhost:8080/"
        },
        "id": "_CNxho0N2ebd",
        "outputId": "78cf96c8-7d65-4081-ff22-b3cea698de96"
      },
      "source": [
        "la3 = np.identity(3)\n",
        "np.linalg.det(la3)"
      ],
      "execution_count": 34,
      "outputs": [
        {
          "output_type": "execute_result",
          "data": {
            "text/plain": [
              "1.0"
            ]
          },
          "metadata": {
            "tags": []
          },
          "execution_count": 34
        }
      ]
    },
    {
      "cell_type": "code",
      "metadata": {
        "id": "jEn62JDf3ERP"
      },
      "source": [
        "# we can use matrix functions like\n",
        "# normalisation\n",
        "# equivvalence\n",
        "# inverse\n",
        "# trace\n",
        "# etc"
      ],
      "execution_count": 35,
      "outputs": []
    },
    {
      "cell_type": "markdown",
      "metadata": {
        "id": "LddeM0Dq7WgJ"
      },
      "source": [
        "#STATISTICS"
      ]
    },
    {
      "cell_type": "code",
      "metadata": {
        "colab": {
          "base_uri": "https://localhost:8080/"
        },
        "id": "cNATEEGm7OZJ",
        "outputId": "0f7d94cd-fece-40fc-ea50-ac4d1a97a1b3"
      },
      "source": [
        "stats = np.array([[1,2,3],[4,5,6],[0,9,8]])\n",
        "print(stats)"
      ],
      "execution_count": 36,
      "outputs": [
        {
          "output_type": "stream",
          "text": [
            "[[1 2 3]\n",
            " [4 5 6]\n",
            " [0 9 8]]\n"
          ],
          "name": "stdout"
        }
      ]
    },
    {
      "cell_type": "code",
      "metadata": {
        "colab": {
          "base_uri": "https://localhost:8080/"
        },
        "id": "F7_I5zMe8E6I",
        "outputId": "613f306b-b027-49d3-a756-99d0e5d5c805"
      },
      "source": [
        "print(np.min(stats))\n",
        "# for minimum in every row\n",
        "print(np.min(stats,axis=1))\n",
        "# for minimum in every col\n",
        "print(np.min(stats,axis=0))\n"
      ],
      "execution_count": 37,
      "outputs": [
        {
          "output_type": "stream",
          "text": [
            "0\n",
            "[1 4 0]\n",
            "[0 2 3]\n"
          ],
          "name": "stdout"
        }
      ]
    },
    {
      "cell_type": "code",
      "metadata": {
        "colab": {
          "base_uri": "https://localhost:8080/"
        },
        "id": "Zykrfb1H8v0C",
        "outputId": "e5a14eca-e7cf-49dd-e7d5-88a051f8103a"
      },
      "source": [
        "# max function also\n",
        "np.max(stats)"
      ],
      "execution_count": 38,
      "outputs": [
        {
          "output_type": "execute_result",
          "data": {
            "text/plain": [
              "9"
            ]
          },
          "metadata": {
            "tags": []
          },
          "execution_count": 38
        }
      ]
    },
    {
      "cell_type": "markdown",
      "metadata": {
        "id": "fwrcMu4PbpvR"
      },
      "source": [
        "#REORGANIZING ARRAYS"
      ]
    },
    {
      "cell_type": "code",
      "metadata": {
        "colab": {
          "base_uri": "https://localhost:8080/"
        },
        "id": "2B7nsiSxb4Rt",
        "outputId": "10cdcfc2-2208-45ed-b555-4d6ba3323ea6"
      },
      "source": [
        "ra1 = np.array([[1,2,3,4],[5,6,7,8]])\n",
        "print(ra1)\n",
        "#  reshape(no.of list,row,col)\n",
        "ra2 = ra1.reshape((2,4,1)) \n",
        "print(ra2)"
      ],
      "execution_count": 48,
      "outputs": [
        {
          "output_type": "stream",
          "text": [
            "[[1 2 3 4]\n",
            " [5 6 7 8]]\n",
            "[[[1]\n",
            "  [2]\n",
            "  [3]\n",
            "  [4]]\n",
            "\n",
            " [[5]\n",
            "  [6]\n",
            "  [7]\n",
            "  [8]]]\n"
          ],
          "name": "stdout"
        }
      ]
    },
    {
      "cell_type": "code",
      "metadata": {
        "colab": {
          "base_uri": "https://localhost:8080/"
        },
        "id": "j6En6m-pdXX7",
        "outputId": "c6d1431a-6146-4232-8489-2e3144a1fc0c"
      },
      "source": [
        "# verticle stacking\n",
        "v1 = np.array([1,2,3,4])\n",
        "v2 = np.array([9,8,7,6])\n",
        "\n",
        "np.vstack([v1,v2])"
      ],
      "execution_count": 52,
      "outputs": [
        {
          "output_type": "execute_result",
          "data": {
            "text/plain": [
              "array([[1, 2, 3, 4],\n",
              "       [9, 8, 7, 6]])"
            ]
          },
          "metadata": {
            "tags": []
          },
          "execution_count": 52
        }
      ]
    },
    {
      "cell_type": "code",
      "metadata": {
        "colab": {
          "base_uri": "https://localhost:8080/"
        },
        "id": "O-EPs6sHnGRL",
        "outputId": "e576dc5b-e9aa-4244-82d0-2fb3f3f1461e"
      },
      "source": [
        "# horizontal stack\n",
        "h1 = np.array([[1,2],[4,5]])\n",
        "h2 = np.array([[7,6],[5,3]])\n",
        "\n",
        "np.hstack((h1,h2))"
      ],
      "execution_count": 53,
      "outputs": [
        {
          "output_type": "execute_result",
          "data": {
            "text/plain": [
              "array([[1, 2, 7, 6],\n",
              "       [4, 5, 5, 3]])"
            ]
          },
          "metadata": {
            "tags": []
          },
          "execution_count": 53
        }
      ]
    },
    {
      "cell_type": "markdown",
      "metadata": {
        "id": "QRTufmBQn4tO"
      },
      "source": [
        "#Miscellaneos"
      ]
    },
    {
      "cell_type": "code",
      "metadata": {
        "id": "60tgvMSBn_2G"
      },
      "source": [
        "# load data from file\n",
        "filedata = np.genfromtxt('/data.txt',delimiter=',')"
      ],
      "execution_count": 60,
      "outputs": []
    },
    {
      "cell_type": "code",
      "metadata": {
        "colab": {
          "base_uri": "https://localhost:8080/"
        },
        "id": "r9Vh92BHqRmb",
        "outputId": "1a215ea7-6179-4dd5-cab6-4edc9892b59f"
      },
      "source": [
        "# changing type of data\n",
        "filedata.astype(\"int16\")"
      ],
      "execution_count": 62,
      "outputs": [
        {
          "output_type": "execute_result",
          "data": {
            "text/plain": [
              "array([[  1,  13,  21,  11, 196,  75,   4,   3,  34,   6,   7,   8,   0,\n",
              "          1,   2,   3,   4,   5],\n",
              "       [  3,  42,  12,  33, 766,  75,   4,  55,   6,   4,   3,   4,   5,\n",
              "          6,   7,   0,  11,  12],\n",
              "       [  1,  22,  33,  11, 999,  11,   2,   1,  78,   0,   1,   2,   9,\n",
              "          8,   7,   1,  76,  88]], dtype=int16)"
            ]
          },
          "metadata": {
            "tags": []
          },
          "execution_count": 62
        }
      ]
    },
    {
      "cell_type": "code",
      "metadata": {
        "colab": {
          "base_uri": "https://localhost:8080/"
        },
        "id": "WYe_XlldqpsQ",
        "outputId": "790b7486-7853-47a3-99d8-26b7ac9e32b8"
      },
      "source": [
        "# ADVANCE INDEXING AND BOOLEAN MASKING\n",
        "\n",
        "filedata>50"
      ],
      "execution_count": 63,
      "outputs": [
        {
          "output_type": "execute_result",
          "data": {
            "text/plain": [
              "array([[False, False, False, False,  True,  True, False, False, False,\n",
              "        False, False, False, False, False, False, False, False, False],\n",
              "       [False, False, False, False,  True,  True, False,  True, False,\n",
              "        False, False, False, False, False, False, False, False, False],\n",
              "       [False, False, False, False,  True, False, False, False,  True,\n",
              "        False, False, False, False, False, False, False,  True,  True]])"
            ]
          },
          "metadata": {
            "tags": []
          },
          "execution_count": 63
        }
      ]
    },
    {
      "cell_type": "code",
      "metadata": {
        "colab": {
          "base_uri": "https://localhost:8080/"
        },
        "id": "GrJPqAj1qyeU",
        "outputId": "89e37a8b-900e-4ddd-ac85-6f2e1e720b8e"
      },
      "source": [
        "filedata[filedata>50]"
      ],
      "execution_count": 64,
      "outputs": [
        {
          "output_type": "execute_result",
          "data": {
            "text/plain": [
              "array([196.,  75., 766.,  75.,  55., 999.,  78.,  76.,  88.])"
            ]
          },
          "metadata": {
            "tags": []
          },
          "execution_count": 64
        }
      ]
    },
    {
      "cell_type": "code",
      "metadata": {
        "colab": {
          "base_uri": "https://localhost:8080/"
        },
        "id": "L1d-ATHaq6ly",
        "outputId": "c5c097a6-bef6-43d2-8c8b-498f095c683b"
      },
      "source": [
        "# index with a list in numpy\n",
        "m = np.array([1,2,3,4,5,6,7,8,9,])         \n",
        "m[[4,0,5]]"
      ],
      "execution_count": 65,
      "outputs": [
        {
          "output_type": "execute_result",
          "data": {
            "text/plain": [
              "array([5, 1, 6])"
            ]
          },
          "metadata": {
            "tags": []
          },
          "execution_count": 65
        }
      ]
    },
    {
      "cell_type": "code",
      "metadata": {
        "colab": {
          "base_uri": "https://localhost:8080/"
        },
        "id": "dkjwju7jrShC",
        "outputId": "ca2c5edc-4e1d-4418-cfd4-1f7e0c4dfcc5"
      },
      "source": [
        "np.any(filedata>50,axis=0)"
      ],
      "execution_count": 66,
      "outputs": [
        {
          "output_type": "execute_result",
          "data": {
            "text/plain": [
              "array([False, False, False, False,  True,  True, False,  True,  True,\n",
              "       False, False, False, False, False, False, False,  True,  True])"
            ]
          },
          "metadata": {
            "tags": []
          },
          "execution_count": 66
        }
      ]
    }
  ]
}